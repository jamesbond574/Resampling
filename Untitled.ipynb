{
 "cells": [
  {
   "cell_type": "code",
   "execution_count": 1,
   "metadata": {},
   "outputs": [],
   "source": [
    "import os\n",
    "\n",
    "# import other required libraries\n",
    "import pandas as pd\n",
    "from sklearn.model_selection import train_test_split"
   ]
  },
  {
   "cell_type": "code",
   "execution_count": 3,
   "metadata": {},
   "outputs": [],
   "source": [
    "df_housingdata = pd.read_csv(\"Final_HousePrices.csv\")"
   ]
  },
  {
   "cell_type": "code",
   "execution_count": 4,
   "metadata": {},
   "outputs": [
    {
     "data": {
      "text/plain": [
       "MSSubClass       0\n",
       "MSZoning         0\n",
       "LotFrontage      0\n",
       "LotArea          0\n",
       "Street           0\n",
       "                ..\n",
       "MoSold           0\n",
       "YrSold           0\n",
       "SaleType         0\n",
       "SaleCondition    0\n",
       "SalePrice        0\n",
       "Length: 80, dtype: int64"
      ]
     },
     "execution_count": 4,
     "metadata": {},
     "output_type": "execute_result"
    }
   ],
   "source": [
    "df_housingdata.isnull().sum()"
   ]
  },
  {
   "cell_type": "code",
   "execution_count": 5,
   "metadata": {},
   "outputs": [],
   "source": [
    "X = df_housingdata.iloc[:,0:79]\n",
    "Y = df_housingdata['SalePrice']\n",
    "\n",
    "# Create train & test sets\n",
    "X_train, X_test, Y_train, Y_test = train_test_split(X, Y, train_size=0.7, test_size=0.3)"
   ]
  },
  {
   "cell_type": "code",
   "execution_count": 6,
   "metadata": {},
   "outputs": [
    {
     "name": "stdout",
     "output_type": "stream",
     "text": [
      "(1021, 79)\n",
      "(1021,)\n",
      "(438, 79)\n",
      "(438,)\n"
     ]
    }
   ],
   "source": [
    "print(X_train.shape)\n",
    "print(Y_train.shape)\n",
    "print(X_test.shape)\n",
    "print(Y_test.shape)\n"
   ]
  },
  {
   "cell_type": "markdown",
   "metadata": {},
   "source": [
    "Sampling a dataset with categorical response variable"
   ]
  },
  {
   "cell_type": "code",
   "execution_count": 8,
   "metadata": {},
   "outputs": [
    {
     "data": {
      "text/plain": [
       "(30000, 25)"
      ]
     },
     "execution_count": 8,
     "metadata": {},
     "output_type": "execute_result"
    }
   ],
   "source": [
    "\n",
    "df_creditcarddata = pd.read_csv(\"creditcarddefault.csv\")\n",
    "df_creditcarddata.shape"
   ]
  },
  {
   "cell_type": "code",
   "execution_count": 9,
   "metadata": {},
   "outputs": [],
   "source": [
    "X = df_creditcarddata.iloc[:,0:24]\n",
    "Y = df_creditcarddata['default payment next month']\n",
    "\n",
    "# Create train & test sets\n",
    "X_train, X_test, Y_train, Y_test = train_test_split(X, Y, train_size=0.7, test_size=0.3, stratify=Y)"
   ]
  },
  {
   "cell_type": "code",
   "execution_count": 10,
   "metadata": {},
   "outputs": [
    {
     "name": "stdout",
     "output_type": "stream",
     "text": [
      "(21000, 24)\n",
      "(21000,)\n",
      "(9000, 24)\n",
      "(9000,)\n"
     ]
    }
   ],
   "source": [
    "print(X_train.shape)\n",
    "print(Y_train.shape)\n",
    "print(X_test.shape)\n",
    "print(Y_test.shape)"
   ]
  },
  {
   "cell_type": "code",
   "execution_count": 11,
   "metadata": {},
   "outputs": [
    {
     "name": "stdout",
     "output_type": "stream",
     "text": [
      "0    16355\n",
      "1     4645\n",
      "dtype: int64\n",
      "0    7009\n",
      "1    1991\n",
      "dtype: int64\n",
      "0    77.880952\n",
      "1    22.119048\n",
      "dtype: float64\n",
      "0    77.877778\n",
      "1    22.122222\n",
      "dtype: float64\n"
     ]
    }
   ],
   "source": [
    "print(pd.value_counts(Y_train.values))\n",
    "print(pd.value_counts(Y_test.values))\n",
    "\n",
    "print(pd.value_counts(Y_train.values)*100/Y_train.shape)\n",
    "print(pd.value_counts(Y_test.values)*100/Y_test.shape)"
   ]
  },
  {
   "cell_type": "markdown",
   "metadata": {},
   "source": [
    "# Cross-Validation"
   ]
  },
  {
   "cell_type": "code",
   "execution_count": 12,
   "metadata": {},
   "outputs": [],
   "source": [
    "import pandas as pd\n",
    "import numpy as np\n",
    "\n",
    "from sklearn.model_selection import train_test_split\n",
    "from sklearn.linear_model import LinearRegression\n",
    "from sklearn.metrics import mean_squared_error, r2_score\n",
    "import matplotlib.pyplot as plt\n"
   ]
  },
  {
   "cell_type": "code",
   "execution_count": 13,
   "metadata": {},
   "outputs": [],
   "source": [
    "# Let's read our data. We prefix the data frame name with \"df_\" for easier understanding.\n",
    "df_autodata = pd.read_csv(\"autompg.csv\")"
   ]
  },
  {
   "cell_type": "code",
   "execution_count": 14,
   "metadata": {},
   "outputs": [
    {
     "data": {
      "text/plain": [
       "(398, 9)"
      ]
     },
     "execution_count": 14,
     "metadata": {},
     "output_type": "execute_result"
    }
   ],
   "source": [
    "df_autodata.shape"
   ]
  },
  {
   "cell_type": "code",
   "execution_count": 15,
   "metadata": {},
   "outputs": [
    {
     "data": {
      "text/plain": [
       "mpg             float64\n",
       "cylinders         int64\n",
       "displacement    float64\n",
       "horsepower      float64\n",
       "weight            int64\n",
       "acceleration    float64\n",
       "model year        int64\n",
       "origin            int64\n",
       "carname          object\n",
       "dtype: object"
      ]
     },
     "execution_count": 15,
     "metadata": {},
     "output_type": "execute_result"
    }
   ],
   "source": [
    "df_autodata.dtypes"
   ]
  },
  {
   "cell_type": "code",
   "execution_count": 16,
   "metadata": {},
   "outputs": [
    {
     "data": {
      "text/plain": [
       "mpg             0\n",
       "cylinders       0\n",
       "displacement    0\n",
       "horsepower      6\n",
       "weight          0\n",
       "acceleration    0\n",
       "model year      0\n",
       "origin          0\n",
       "carname         0\n",
       "dtype: int64"
      ]
     },
     "execution_count": 16,
     "metadata": {},
     "output_type": "execute_result"
    }
   ],
   "source": [
    "df_autodata.isnull().sum()"
   ]
  },
  {
   "cell_type": "code",
   "execution_count": 17,
   "metadata": {},
   "outputs": [],
   "source": [
    "df_autodata['horsepower'].fillna(df_autodata['horsepower'].median(), inplace=True)"
   ]
  },
  {
   "cell_type": "code",
   "execution_count": 18,
   "metadata": {},
   "outputs": [],
   "source": [
    "df_autodata.drop(['carname'], axis=1, inplace=True)"
   ]
  },
  {
   "cell_type": "code",
   "execution_count": 19,
   "metadata": {},
   "outputs": [],
   "source": [
    "# create feature & response variables\n",
    "X = df_autodata.iloc[:,1:8]\n",
    "Y = df_autodata.iloc[:,0]\n",
    "X=np.array(X)\n",
    "Y=np.array(Y)"
   ]
  },
  {
   "cell_type": "code",
   "execution_count": 20,
   "metadata": {},
   "outputs": [],
   "source": [
    "# Create train & test sets\n",
    "X_train, X_test, Y_train, Y_test = train_test_split(X, Y, train_size=0.7, test_size=0.3, random_state=1)"
   ]
  },
  {
   "cell_type": "code",
   "execution_count": 21,
   "metadata": {},
   "outputs": [
    {
     "name": "stdout",
     "output_type": "stream",
     "text": [
      "(278, 7)\n",
      "(278,)\n",
      "(120, 7)\n",
      "(120,)\n"
     ]
    }
   ],
   "source": [
    "print(X_train.shape)\n",
    "print(Y_train.shape)\n",
    "print(X_test.shape)\n",
    "print(Y_test.shape)"
   ]
  },
  {
   "cell_type": "code",
   "execution_count": 22,
   "metadata": {},
   "outputs": [],
   "source": [
    "# fit a model\n",
    "from sklearn.linear_model import LinearRegression\n",
    "lm = LinearRegression()\n",
    "lm_model = lm.fit(X_train, Y_train)\n",
    "predictedvalues = lm.predict(X_test)"
   ]
  },
  {
   "cell_type": "code",
   "execution_count": 23,
   "metadata": {},
   "outputs": [
    {
     "name": "stdout",
     "output_type": "stream",
     "text": [
      "Results without Cross-Validation:\n",
      "R^2: 0.85, MSE: 8.93\n"
     ]
    }
   ],
   "source": [
    "r2score = r2_score(Y_test, predictedvalues)\n",
    "mse = mean_squared_error(Y_test, predictedvalues)\n",
    "        \n",
    "print(\"Results without Cross-Validation:\")\n",
    "print(\"R^2: {:.2f}, MSE: {:.2f}\".format(r2score, mse))"
   ]
  },
  {
   "cell_type": "code",
   "execution_count": 24,
   "metadata": {},
   "outputs": [
    {
     "data": {
      "text/plain": [
       "Text(0, 0.5, 'Predicted mpg')"
      ]
     },
     "execution_count": 24,
     "metadata": {},
     "output_type": "execute_result"
    },
    {
     "data": {
      "image/png": "[encoded data removed]",
      "text/plain": [
       "<Figure size 432x288 with 1 Axes>"
      ]
     },
     "metadata": {
      "needs_background": "light"
     },
     "output_type": "display_data"
    }
   ],
   "source": [
    "## Let us plot the model\n",
    "plt.scatter(Y_test, predictedvalues)\n",
    "plt.xlabel('Reported mpg')\n",
    "plt.ylabel('Predicted mpg')"
   ]
  },
  {
   "cell_type": "markdown",
   "metadata": {},
   "source": [
    "# 1. K-Fold Cross-Validation"
   ]
  },
  {
   "cell_type": "code",
   "execution_count": 25,
   "metadata": {},
   "outputs": [],
   "source": [
    "import pandas as pd\n",
    "\n",
    "from sklearn.model_selection import train_test_split\n",
    "from sklearn.linear_model import LinearRegression\n",
    "from sklearn.metrics import mean_squared_error, r2_score\n",
    "import matplotlib.pyplot as plt\n",
    "from sklearn.model_selection import KFold"
   ]
  },
  {
   "cell_type": "code",
   "execution_count": 26,
   "metadata": {},
   "outputs": [],
   "source": [
    "# Let's read our data. We prefix the data frame name with \"df_\" for easier understanding.\n",
    "df_autodata = pd.read_csv(\"autompg.csv\")\n",
    "df_autodata['horsepower'].fillna(df_autodata['horsepower'].median(), inplace=True)\n",
    "df_autodata.drop(['carname'], axis=1, inplace=True)\n",
    "X = df_autodata.iloc[:,1:8]\n",
    "Y = df_autodata.iloc[:,0]\n",
    "X=np.array(X)\n",
    "Y=np.array(Y)"
   ]
  },
  {
   "cell_type": "code",
   "execution_count": 27,
   "metadata": {},
   "outputs": [
    {
     "name": "stdout",
     "output_type": "stream",
     "text": [
      "K-Fold Cross Validation Results:\n",
      "R^2: 0.79, MSE: 12.85\n"
     ]
    }
   ],
   "source": [
    "kfoldcv = KFold(n_splits=10)\n",
    "kf_ytests = []\n",
    "kf_predictedvalues = []\n",
    "\n",
    "for train_index, test_index in kfoldcv.split(X):\n",
    "    X_train, X_test = X[train_index], X[test_index] \n",
    "    Y_train, Y_test = Y[train_index], Y[test_index]\n",
    "    \n",
    "    model = LinearRegression()\n",
    "    model.fit(X_train, Y_train) \n",
    "    Y_pred = model.predict(X_test)\n",
    "        \n",
    "    # there is only one y-test and y-pred per iteration over the kfoldcv.split, \n",
    "    # so we append them to the respective lists.\n",
    "        \n",
    "    kf_ytests += list(Y_test)\n",
    "    kf_predictedvalues += list(Y_pred)\n",
    "\n",
    "        \n",
    "r2score = r2_score(kf_ytests, kf_predictedvalues)\n",
    "mse = mean_squared_error(kf_ytests, kf_predictedvalues)\n",
    "        \n",
    "print(\"K-Fold Cross Validation Results:\")\n",
    "print(\"R^2: {:.2f}, MSE: {:.2f}\".format(r2score, mse))"
   ]
  },
  {
   "cell_type": "code",
   "execution_count": 28,
   "metadata": {},
   "outputs": [
    {
     "data": {
      "text/plain": [
       "Text(0, 0.5, 'Predicted mpg')"
      ]
     },
     "execution_count": 28,
     "metadata": {},
     "output_type": "execute_result"
    },
    {
     "data": {
      "image/png": "[encoded data removed]",
      "text/plain": [
       "<Figure size 432x288 with 1 Axes>"
      ]
     },
     "metadata": {
      "needs_background": "light"
     },
     "output_type": "display_data"
    }
   ],
   "source": [
    "## Let us plot the model\n",
    "plt.scatter(kf_ytests, kf_predictedvalues)\n",
    "plt.xlabel('Reported mpg')\n",
    "plt.ylabel('Predicted mpg')"
   ]
  },
  {
   "cell_type": "markdown",
   "metadata": {},
   "source": [
    "# 2. LOOCV"
   ]
  },
  {
   "cell_type": "code",
   "execution_count": 29,
   "metadata": {},
   "outputs": [],
   "source": [
    "# Let's read our data. We prefix the data frame name with \"df_\" for easier understanding.\n",
    "df_autodata = pd.read_csv(\"autompg.csv\")\n",
    "df_autodata['horsepower'].fillna(df_autodata['horsepower'].median(), inplace=True)\n",
    "df_autodata.drop(['carname'], axis=1, inplace=True)\n",
    "X = df_autodata.iloc[:,1:8]\n",
    "Y = df_autodata.iloc[:,0]\n",
    "X=np.array(X)\n",
    "Y=np.array(Y)"
   ]
  },
  {
   "cell_type": "code",
   "execution_count": 30,
   "metadata": {},
   "outputs": [
    {
     "name": "stdout",
     "output_type": "stream",
     "text": [
      "LOOCV Cross Validation Results:\n",
      "R^2: 0.81, MSE: 11.43\n"
     ]
    }
   ],
   "source": [
    "from sklearn.model_selection import LeaveOneOut \n",
    "loocv = LeaveOneOut()\n",
    "\n",
    "loo_ytests = []\n",
    "loo_predictedvalues = []\n",
    "\n",
    "for train_index, test_index in loocv.split(X):\n",
    "    # the below requires arrays. So we converted the dataframes to arrays\n",
    "    X_train, X_test = X[train_index], X[test_index] \n",
    "    Y_train, Y_test = Y[train_index], Y[test_index]\n",
    "    \n",
    "    model = LinearRegression()\n",
    "    model.fit(X_train, Y_train) \n",
    "    Y_pred = model.predict(X_test)\n",
    "        \n",
    "    # there is only one y-test and y-pred per iteration over the loo.split, \n",
    "    # so we append them to the respective lists.\n",
    "        \n",
    "    loo_ytests += list(Y_test)\n",
    "    loo_predictedvalues += list(Y_pred)\n",
    "    \n",
    "r2score = r2_score(loo_ytests, loo_predictedvalues)\n",
    "mse = mean_squared_error(loo_ytests, loo_predictedvalues)\n",
    "        \n",
    "print(\"LOOCV Cross Validation Results:\")\n",
    "print(\"R^2: {:.2f}, MSE: {:.2f}\".format(r2score, mse))"
   ]
  },
  {
   "cell_type": "code",
   "execution_count": 31,
   "metadata": {},
   "outputs": [
    {
     "data": {
      "text/plain": [
       "Text(0, 0.5, 'Predicted mpg')"
      ]
     },
     "execution_count": 31,
     "metadata": {},
     "output_type": "execute_result"
    },
    {
     "data": {
      "image/png": "[encoded data removed]",
      "text/plain": [
       "<Figure size 432x288 with 1 Axes>"
      ]
     },
     "metadata": {
      "needs_background": "light"
     },
     "output_type": "display_data"
    }
   ],
   "source": [
    "## Let us plot the model\n",
    "plt.scatter(loo_ytests, loo_predictedvalues)\n",
    "plt.xlabel('Reported mpg')\n",
    "plt.ylabel('Predicted mpg')"
   ]
  },
  {
   "cell_type": "markdown",
   "metadata": {},
   "source": [
    "# Bootstrap"
   ]
  },
  {
   "cell_type": "markdown",
   "metadata": {},
   "source": [
    "## Using resample() scikit-learn function"
   ]
  },
  {
   "cell_type": "code",
   "execution_count": 32,
   "metadata": {},
   "outputs": [],
   "source": [
    "import pandas as pd\n",
    "import numpy as np\n",
    "\n",
    "from sklearn.model_selection import train_test_split\n",
    "from sklearn.linear_model import SGDRegressor\n",
    "from sklearn.metrics import mean_squared_error, r2_score\n",
    "import matplotlib.pyplot as plt\n",
    "\n",
    "from sklearn.utils import resample"
   ]
  },
  {
   "cell_type": "code",
   "execution_count": 33,
   "metadata": {},
   "outputs": [],
   "source": [
    "# Let's read our data. We prefix the data frame name with \"df_\" for easier understanding.\n",
    "df_autodata = pd.read_csv(\"autompg.csv\")\n",
    "df_autodata['horsepower'].fillna(df_autodata['horsepower'].median(), inplace=True)\n",
    "df_autodata.drop(['carname'], axis=1, inplace=True)"
   ]
  },
  {
   "cell_type": "code",
   "execution_count": 34,
   "metadata": {},
   "outputs": [
    {
     "data": {
      "text/plain": [
       "(398, 8)"
      ]
     },
     "execution_count": 34,
     "metadata": {},
     "output_type": "execute_result"
    }
   ],
   "source": [
    "df_autodata.shape"
   ]
  },
  {
   "cell_type": "code",
   "execution_count": 35,
   "metadata": {},
   "outputs": [],
   "source": [
    "def create_bootstrap_oob(df):\n",
    "    global df_OOB\n",
    "    global df_bootstrap_sample  \n",
    "    \n",
    "    # creating the bootstrap sample\n",
    "    df_bootstrap_sample = resample(df, replace=True, n_samples=100)\n",
    "    \n",
    "    # creating the OOB sample    \n",
    "    bootstrap_sample_index = tuple(df_bootstrap_sample.index)\n",
    "    bootstrap_df = df.index.isin(bootstrap_sample_index)\n",
    "    df_OOB = df[~bootstrap_df]"
   ]
  },
  {
   "cell_type": "code",
   "execution_count": 36,
   "metadata": {},
   "outputs": [],
   "source": [
    "iteration=50\n",
    "bootstap_statistics=list()\n",
    "originalsample_statistics=list()\n",
    "\n",
    "for i in range(iteration):\n",
    "    # call custom function create_bootstrap_oob(). Pass df_autodata\n",
    "    create_bootstrap_oob(df_autodata)\n",
    "    \n",
    "    # capture mean value of mpg variable for all bootstrap samples\n",
    "    bootstap_statistics.append(df_bootstrap_sample.iloc[:,0].mean())\n",
    "    \n",
    "    originalsample_statistics.append(df_autodata['mpg'].mean())"
   ]
  },
  {
   "cell_type": "code",
   "execution_count": 37,
   "metadata": {},
   "outputs": [
    {
     "data": {
      "image/png": "[encoded data removed]",
      "text/plain": [
       "<Figure size 432x432 with 1 Axes>"
      ]
     },
     "metadata": {
      "needs_background": "light"
     },
     "output_type": "display_data"
    }
   ],
   "source": [
    "import matplotlib.pyplot as plt\n",
    "f, ax= plt.subplots(figsize=(6,6))\n",
    "\n",
    "plt.plot(bootstap_statistics, 'c--', label='Bootstrap Sample Statistic')\n",
    "plt.plot(originalsample_statistics, 'grey', label='Original Sample Statistic')\n",
    "plt.xlabel('Iterations')\n",
    "plt.ylabel('Statistic (Mean of mpg)')\n",
    "plt.legend(loc=4)\n",
    "plt.show()"
   ]
  },
  {
   "cell_type": "markdown",
   "metadata": {},
   "source": [
    "# Mean Squared Error for Each Bootstrap Iteration"
   ]
  },
  {
   "cell_type": "code",
   "execution_count": 38,
   "metadata": {},
   "outputs": [
    {
     "name": "stderr",
     "output_type": "stream",
     "text": [
      "C:\\Users\\windows\\anaconda3\\lib\\site-packages\\ipykernel_launcher.py:30: RuntimeWarning: divide by zero encountered in double_scalars\n"
     ]
    }
   ],
   "source": [
    "iteration=50\n",
    "mse_each_iterations = list()\n",
    "lm=SGDRegressor()\n",
    "total_mse=0\n",
    "average_mse= list()\n",
    "\n",
    "for i in range(iteration):\n",
    "    create_bootstrap_oob(df_autodata)\n",
    "    X_BS = df_bootstrap_sample.iloc[:,1:8] #Bootstrap sample features\n",
    "    Y_BS = df_bootstrap_sample.iloc[:,0] #Bootstrap sample response variable\n",
    "\n",
    "    X_OOB = df_OOB.iloc[:,1:8] #OOB sample features\n",
    "    Y_OOB = df_OOB.iloc[:,0] #OOB sample response variable    \n",
    "    \n",
    "    # fit your model with bootstrap sample\n",
    "    lm=SGDRegressor()\n",
    "    lm.fit(X_BS, Y_BS)\n",
    "    \n",
    "    # test your model on out-of-bag sample \n",
    "    predictedvalues = lm.predict(X_OOB)\n",
    "    \n",
    "    # capture MSE for the predicted values against OOB actuals\n",
    "    mse = mean_squared_error(Y_OOB, predictedvalues)\n",
    "    \n",
    "    # create a list of mse values\n",
    "    mse_each_iterations.append(mse) \n",
    "\n",
    "    # add all mse for calculating average\n",
    "    total_mse += mse\n",
    "    average_mse.append(total_mse/i)"
   ]
  },
  {
   "cell_type": "code",
   "execution_count": 39,
   "metadata": {},
   "outputs": [
    {
     "data": {
      "image/png": "[encoded data removed]",
      "text/plain": [
       "<Figure size 432x432 with 1 Axes>"
      ]
     },
     "metadata": {
      "needs_background": "light"
     },
     "output_type": "display_data"
    }
   ],
   "source": [
    "import matplotlib.pyplot as plt\n",
    "f, ax= plt.subplots(figsize=(6,6))\n",
    "\n",
    "plt.plot(mse_each_iterations, 'c--', label='MSE by Iteration')\n",
    "plt.plot(average_mse, 'r^', label='Average MSE after each iteration')\n",
    "\n",
    "plt.xlabel('Iterations')\n",
    "plt.ylabel('Mean Squared Error')\n",
    "plt.legend(loc=1)\n",
    "plt.show()"
   ]
  },
  {
   "cell_type": "code",
   "execution_count": null,
   "metadata": {},
   "outputs": [],
   "source": []
  }
 ],
 "metadata": {
  "kernelspec": {
   "display_name": "Python 3",
   "language": "python",
   "name": "python3"
  },
  "language_info": {
   "codemirror_mode": {
    "name": "ipython",
    "version": 3
   },
   "file_extension": ".py",
   "mimetype": "text/x-python",
   "name": "python",
   "nbconvert_exporter": "python",
   "pygments_lexer": "ipython3",
   "version": "3.7.6"
  }
 },
 "nbformat": 4,
 "nbformat_minor": 4
}
